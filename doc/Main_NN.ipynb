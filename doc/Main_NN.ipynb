{
 "cells": [
  {
   "cell_type": "markdown",
   "metadata": {},
   "source": [
    "# Neural Network Approach"
   ]
  },
  {
   "cell_type": "markdown",
   "metadata": {},
   "source": [
    "**In this file, we trying to explore the performance of Neural Network. The performance summary is in the end of the file.** "
   ]
  },
  {
   "cell_type": "code",
   "execution_count": 1,
   "metadata": {},
   "outputs": [],
   "source": [
    "# Import Libraries\n",
    "import os, sys\n",
    "import pandas as pd\n",
    "import numpy as np\n",
    "import matplotlib.pyplot as plt\n",
    "import tensorflow\n",
    "import time \n",
    "from tensorflow.keras import models\n",
    "from tensorflow.keras import layers\n",
    "from tensorflow.keras.utils import to_categorical\n",
    "from tensorflow.keras.layers import Dense, Activation, Flatten, Input, Dropout\n",
    "from tensorflow.keras.layers import BatchNormalization\n",
    "from tensorflow.keras import initializers\n",
    "from tensorflow.keras.models import Model\n",
    "from tensorflow.keras.optimizers import Adam\n",
    "from sklearn.metrics import accuracy_score\n",
    "import warnings"
   ]
  },
  {
   "cell_type": "code",
   "execution_count": 2,
   "metadata": {},
   "outputs": [],
   "source": [
    "# Set working directories\n",
    "os.chdir('../data/train_set')\n",
    "root = os.getcwd()\n",
    "train_dir = root"
   ]
  },
  {
   "cell_type": "code",
   "execution_count": 3,
   "metadata": {},
   "outputs": [],
   "source": [
    "# Load the pre-processed Data\n",
    "train = pd.read_csv('dat_train.csv')\n",
    "test = pd.read_csv('dat_test.csv')"
   ]
  },
  {
   "cell_type": "code",
   "execution_count": 4,
   "metadata": {},
   "outputs": [],
   "source": [
    "# Split and transform the Data\n",
    "X = train.iloc[:, 0:6006]\n",
    "Y = train.iloc[:, 6006:6007]\n",
    "Y = tensorflow.keras.utils.to_categorical(Y)\n",
    "Y= Y[:,1:]\n",
    "X_test = test.iloc[:, 0:6006]\n",
    "Y_test = test.iloc[:, 6006:6007]\n",
    "Y_test = tensorflow.keras.utils.to_categorical(Y_test)\n",
    "Y_test = Y_test[:,1:]"
   ]
  },
  {
   "cell_type": "code",
   "execution_count": 6,
   "metadata": {},
   "outputs": [],
   "source": [
    "# Build the Network\n",
    "warnings.filterwarnings('ignore')\n",
    "input_shape = [6006]\n",
    "input_layer = Input(input_shape)\n",
    "x = BatchNormalization()(input_layer)\n",
    "x = Dense(22*12,activation='relu',kernel_initializer=initializers.glorot_normal(seed=4))(x)\n",
    "x = Dropout(0.25)(x)\n",
    "x = BatchNormalization()(x)\n",
    "x = Dense(22*8,activation='relu',kernel_initializer=initializers.glorot_normal(seed=4))(x)\n",
    "x = Dropout(0.2)(x)\n",
    "x = Dense(22*4,activation='sigmoid',kernel_initializer=initializers.glorot_normal(seed=4))(x)\n",
    "x = Dense(22*2,activation='tanh',kernel_initializer=initializers.glorot_normal(seed=4))(x)\n",
    "output_layer = Dense(22,activation='softmax',kernel_initializer=initializers.glorot_normal(seed=4))(x)\n",
    "model = Model(input_layer,output_layer)"
   ]
  },
  {
   "cell_type": "code",
   "execution_count": 7,
   "metadata": {},
   "outputs": [
    {
     "name": "stdout",
     "output_type": "stream",
     "text": [
      "WARNING:tensorflow:From C:\\Users\\Dr.FlyOnBeD\\Anaconda3\\lib\\site-packages\\tensorflow\\python\\ops\\math_ops.py:3066: to_int32 (from tensorflow.python.ops.math_ops) is deprecated and will be removed in a future version.\n",
      "Instructions for updating:\n",
      "Use tf.cast instead.\n",
      "Epoch 1/20\n",
      "2000/2000 [==============================] - 3s 1ms/sample - loss: 2.8331 - acc: 0.1625 0s - loss: 2.8887 - acc: \n",
      "Epoch 2/20\n",
      "2000/2000 [==============================] - 2s 794us/sample - loss: 2.2803 - acc: 0.2965\n",
      "Epoch 3/20\n",
      "2000/2000 [==============================] - 2s 808us/sample - loss: 1.9669 - acc: 0.3765\n",
      "Epoch 4/20\n",
      "2000/2000 [==============================] - 2s 771us/sample - loss: 1.8103 - acc: 0.4020\n",
      "Epoch 5/20\n",
      "2000/2000 [==============================] - 2s 770us/sample - loss: 1.6740 - acc: 0.4570\n",
      "Epoch 6/20\n",
      "2000/2000 [==============================] - 2s 783us/sample - loss: 1.6031 - acc: 0.4820\n",
      "Epoch 7/20\n",
      "2000/2000 [==============================] - 2s 779us/sample - loss: 1.4981 - acc: 0.5015\n",
      "Epoch 8/20\n",
      "2000/2000 [==============================] - 2s 757us/sample - loss: 1.4491 - acc: 0.5280\n",
      "Epoch 9/20\n",
      "2000/2000 [==============================] - 2s 758us/sample - loss: 1.3621 - acc: 0.5480\n",
      "Epoch 10/20\n",
      "2000/2000 [==============================] - 2s 778us/sample - loss: 1.3082 - acc: 0.5650s - loss: 1.2625 \n",
      "Epoch 11/20\n",
      "2000/2000 [==============================] - 2s 816us/sample - loss: 1.2426 - acc: 0.5865\n",
      "Epoch 12/20\n",
      "2000/2000 [==============================] - 2s 821us/sample - loss: 1.2002 - acc: 0.6085\n",
      "Epoch 13/20\n",
      "2000/2000 [==============================] - 2s 773us/sample - loss: 1.1668 - acc: 0.6085\n",
      "Epoch 14/20\n",
      "2000/2000 [==============================] - 2s 799us/sample - loss: 1.1437 - acc: 0.6195\n",
      "Epoch 15/20\n",
      "2000/2000 [==============================] - 2s 833us/sample - loss: 1.0951 - acc: 0.6295\n",
      "Epoch 16/20\n",
      "2000/2000 [==============================] - 2s 765us/sample - loss: 1.0252 - acc: 0.6620s - loss: 1.0364 - acc: 0.655 - ETA: 0s - loss: 1.0332 - a\n",
      "Epoch 17/20\n",
      "2000/2000 [==============================] - 2s 764us/sample - loss: 1.0153 - acc: 0.6600\n",
      "Epoch 18/20\n",
      "2000/2000 [==============================] - 2s 785us/sample - loss: 1.0050 - acc: 0.6505s - loss: 1.0066 - a\n",
      "Epoch 19/20\n",
      "2000/2000 [==============================] - 2s 781us/sample - loss: 0.9700 - acc: 0.6605\n",
      "Epoch 20/20\n",
      "2000/2000 [==============================] - 2s 793us/sample - loss: 0.9667 - acc: 0.6650\n",
      "training model takes 34.652 seconds\n"
     ]
    }
   ],
   "source": [
    "# Training the network and record training time\n",
    "warnings.filterwarnings('ignore')\n",
    "start_time = time.time()\n",
    "model.compile(loss='categorical_crossentropy',optimizer = Adam(lr=0.001),metrics=['accuracy'])\n",
    "model_his = model.fit(X,Y,epochs=20)\n",
    "print('training model takes %s seconds' % round ((time.time() - start_time), 3))"
   ]
  },
  {
   "cell_type": "code",
   "execution_count": 8,
   "metadata": {},
   "outputs": [
    {
     "data": {
      "text/plain": [
       "Text(0.5, 1.0, 'Accuracy Curve')"
      ]
     },
     "execution_count": 8,
     "metadata": {},
     "output_type": "execute_result"
    },
    {
     "data": {
      "image/png": "[encoded data removed]",
      "text/plain": [
       "<Figure size 576x432 with 1 Axes>"
      ]
     },
     "metadata": {
      "needs_background": "light"
     },
     "output_type": "display_data"
    }
   ],
   "source": [
    "# Plot the training process with accuracy as our metric\n",
    "check = model_his.history\n",
    "plt.figure(figsize=[8, 6])\n",
    "plt.plot(check['acc'], 'r', linewidth = 1.0)\n",
    "plt.xlabel('Epoches', fontsize = 16)\n",
    "plt.ylabel('Accuracy', fontsize = 16)\n",
    "plt.title('Accuracy Curve', fontsize = 16)"
   ]
  },
  {
   "cell_type": "code",
   "execution_count": 9,
   "metadata": {},
   "outputs": [
    {
     "name": "stdout",
     "output_type": "stream",
     "text": [
      "Test accuracy is 56.2 percent\n",
      "testing model takes 0.274 seconds\n"
     ]
    }
   ],
   "source": [
    "# Predict the test set and record the test time\n",
    "t0 = time.time()\n",
    "pred = model.predict(X_test)\n",
    "pred_lst = [] \n",
    "for i in range(len(pred)):\n",
    "    arr = pred[i]\n",
    "    idx = np.argwhere(arr == np.max(arr))\n",
    "    pred_lst.append(idx[0][0])\n",
    "tst_labl = np.argmax(Y_test, axis=-1)\n",
    "acc = accuracy_score(pred_lst, tst_labl)\n",
    "print(\"Test accuracy is %s percent\" %(acc*100))\n",
    "print(\"testing model takes %s seconds\" % round((time.time() - t0),3))"
   ]
  },
  {
   "cell_type": "markdown",
   "metadata": {},
   "source": [
    "**In summary, the Neural Network did a good job. After 20 epoches of training, the training accuracy is 66.5% and the corresponding test accuracy is 56.2%. Speak of the time cost, Neural Network did a excellent job. The training process only takes 35 seconds and the testing process only takes 0.274 seconds. Overall, the Neural Network gives us a good prediction accuracy within a very short time. Since the most concern of this project is time cost, we consider Neural Network as our advanced model.**"
   ]
  }
 ],
 "metadata": {
  "kernelspec": {
   "display_name": "Python 3",
   "language": "python",
   "name": "python3"
  },
  "language_info": {
   "codemirror_mode": {
    "name": "ipython",
    "version": 3
   },
   "file_extension": ".py",
   "mimetype": "text/x-python",
   "name": "python",
   "nbconvert_exporter": "python",
   "pygments_lexer": "ipython3",
   "version": "3.7.1"
  }
 },
 "nbformat": 4,
 "nbformat_minor": 2
}
